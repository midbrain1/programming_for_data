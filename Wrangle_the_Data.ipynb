{
 "cells": [
  {
   "cell_type": "markdown",
   "metadata": {
    "id": "BKBQIxC4YPKX"
   },
   "source": [
    "# Merging dataframes, creating new columns, replacing with default or correctly formatted values\n",
    "---\n",
    "\n",
    "## Merging dataframes\n",
    "\n",
    "We often want to use data from a set of different data files, or a set of dataframes we have prepared, to combine into one dataframe.\n",
    "\n",
    "### To merge two dataframes together when both dataframes have column headings in common\n",
    "\n",
    "If `df1` and `df2` have some column headings in common, to combine the two into one dataframe we use:  \n",
    "\n",
    "`pd.concat([dataframes to combine])`\n",
    "\n",
    "This will create a new dataframe with all columns from the original two dataframes, which we can store in a new variable for later use.  Missing values are filled with null values. \n",
    "\n",
    "If we want only the column headings that appear in both tables, we can use join='inner':\n",
    "\n",
    "`pd.concat([dataframes to combine], join='inner')` \n",
    "\n",
    "We may also need to refactor the indexing, where two tables are indexed from 0 upwards, adding the two tables together will result in multiple occurences of the same index.  This can be overcome by using ignore_index=True:\n",
    "\n",
    "`pd.concat([dataframes to combine], join='inner', ignore_index=True)`\n",
    "\n",
    "\n"
   ]
  },
  {
   "cell_type": "markdown",
   "metadata": {
    "id": "g0mUEA5ugGyJ"
   },
   "source": [
    "### Exercise 1 - look at the data\n",
    "\n",
    "The Excel file at this URL https://github.com/futureCodersSE/working-with-data/blob/main/Data%20sets/Income-Data.xlsx?raw=true contains TWO data sheets named county-level and state-level.  \n",
    "\n",
    "In the code cell below, read the county-level sheet into a dataframe called county_level_df and display the contents to see what it looks like.\n",
    "\n",
    "Then, add more code to read the state-level sheet into a dataframe called state_level_df and display the contents to see what this one looks like."
   ]
  },
  {
   "cell_type": "code",
   "execution_count": 7,
   "metadata": {
    "id": "s6qHNDn-YN0i"
   },
   "outputs": [
    {
     "name": "stdout",
     "output_type": "stream",
     "text": [
      "   State  County  Population  Age  Income\n",
      "0     TX       1          72   34      65\n",
      "1     TX       2          33   42      45\n",
      "2     TX       5          25   23      46\n",
      "3     TX       6          54   36      65\n",
      "4     TX       7          11   42      53\n",
      "5     TX       8          28   25      62\n",
      "6     TX       9          82   35      66\n",
      "7     TX      10           5   40      75\n",
      "8     MD      11          61   27      22\n",
      "9     MD       2           5   23      69\n",
      "10    MD       4          98   25      73\n",
      "11    MD       3          64   29      75\n",
      "12    MD       2          36   24      65\n",
      "13    MD       1          24   25      66\n",
      "14    MD       5          34   31      78\n",
      "15    MD       6          89   22      81\n",
      "16    MD       8          21   25      73\n",
      "17    MD       7          21   30      62\n",
      "  State    Pop  Age  Income  Education\n",
      "0    TX  23543   32      54       10.2\n",
      "1    MD  10343   29      69       10.3\n",
      "2    IN   5231   41      35       10.1\n",
      "3    CA  29587   35      67       10.4\n",
      "4    NY  18142   34      78       10.2\n"
     ]
    }
   ],
   "source": [
    "import pandas as pd\n",
    "country_level_df = pd.read_excel('https://github.com/futureCodersSE/working-with-data/blob/main/Data%20sets/Income-Data.xlsx?raw=true',sheet_name = 'county-level')\n",
    "print(country_level_df)\n",
    "state_level_df = pd.read_excel('https://github.com/futureCodersSE/working-with-data/blob/main/Data%20sets/Income-Data.xlsx?raw=true',sheet_name = 'state-level')\n",
    "print(state_level_df)"
   ]
  },
  {
   "cell_type": "markdown",
   "metadata": {
    "id": "Ai3WPgDgg0Z-"
   },
   "source": [
    "### Exercise 2 - combine the two data sets\n",
    "\n",
    "Use `pd.concat([list of dataframes])` to combine the two dataframes into a new dataframe called **income_df**, filling missing values with null values.  \n",
    "\n",
    "**Test output**:  \n",
    "income_df.shape will be (23, 7)  \n",
    "The Pop and Education columns will contain NaN for the first 18 rows  \n",
    "The County and Population columns will contain NaN for the last 5 rows"
   ]
  },
  {
   "cell_type": "code",
   "execution_count": 9,
   "metadata": {
    "id": "cNRmOB4Yhzdf"
   },
   "outputs": [
    {
     "name": "stdout",
     "output_type": "stream",
     "text": [
      "   State  County  Population  Age  Income      Pop  Education\n",
      "0     TX     1.0        72.0   34      65      NaN        NaN\n",
      "1     TX     2.0        33.0   42      45      NaN        NaN\n",
      "2     TX     5.0        25.0   23      46      NaN        NaN\n",
      "3     TX     6.0        54.0   36      65      NaN        NaN\n",
      "4     TX     7.0        11.0   42      53      NaN        NaN\n",
      "5     TX     8.0        28.0   25      62      NaN        NaN\n",
      "6     TX     9.0        82.0   35      66      NaN        NaN\n",
      "7     TX    10.0         5.0   40      75      NaN        NaN\n",
      "8     MD    11.0        61.0   27      22      NaN        NaN\n",
      "9     MD     2.0         5.0   23      69      NaN        NaN\n",
      "10    MD     4.0        98.0   25      73      NaN        NaN\n",
      "11    MD     3.0        64.0   29      75      NaN        NaN\n",
      "12    MD     2.0        36.0   24      65      NaN        NaN\n",
      "13    MD     1.0        24.0   25      66      NaN        NaN\n",
      "14    MD     5.0        34.0   31      78      NaN        NaN\n",
      "15    MD     6.0        89.0   22      81      NaN        NaN\n",
      "16    MD     8.0        21.0   25      73      NaN        NaN\n",
      "17    MD     7.0        21.0   30      62      NaN        NaN\n",
      "0     TX     NaN         NaN   32      54  23543.0       10.2\n",
      "1     MD     NaN         NaN   29      69  10343.0       10.3\n",
      "2     IN     NaN         NaN   41      35   5231.0       10.1\n",
      "3     CA     NaN         NaN   35      67  29587.0       10.4\n",
      "4     NY     NaN         NaN   34      78  18142.0       10.2\n"
     ]
    }
   ],
   "source": [
    "income_df = pd.concat([country_level_df,state_level_df])\n",
    "print(income_df)"
   ]
  },
  {
   "cell_type": "markdown",
   "metadata": {
    "id": "aekH_ewx7FM3"
   },
   "source": [
    "### Exercise 3 - ignoring index to get a new indexing system\n",
    "---\n",
    "\n",
    "All rows in each dataframe are indexed from 0 to one less than the number of rows.  You will have noticed that the concatenation in the previous exercise has kept the indexing from the individual tables.  \n",
    "\n",
    "If we are making a new table it may make sense to create a new set of indices, from 0 to one less than the length of the new table.   Do this by adding an extra paramater ignore_index=True.  ignore_index is False by default and all original indices are kept.\n",
    "\n",
    "Combine the dataframes `county_level_df` and `state_level_df` into a new dataframe called `income_df`, adding the parameter `ignore_index=True`. \n",
    "\n",
    "**Test output**:  \n",
    "There will be 23 rows, indexed 0 to 22 and 7 columns"
   ]
  },
  {
   "cell_type": "code",
   "execution_count": 10,
   "metadata": {
    "id": "Z5ABjwed8Rpo"
   },
   "outputs": [
    {
     "name": "stdout",
     "output_type": "stream",
     "text": [
      "   State  County  Population  Age  Income      Pop  Education\n",
      "0     TX     1.0        72.0   34      65      NaN        NaN\n",
      "1     TX     2.0        33.0   42      45      NaN        NaN\n",
      "2     TX     5.0        25.0   23      46      NaN        NaN\n",
      "3     TX     6.0        54.0   36      65      NaN        NaN\n",
      "4     TX     7.0        11.0   42      53      NaN        NaN\n",
      "5     TX     8.0        28.0   25      62      NaN        NaN\n",
      "6     TX     9.0        82.0   35      66      NaN        NaN\n",
      "7     TX    10.0         5.0   40      75      NaN        NaN\n",
      "8     MD    11.0        61.0   27      22      NaN        NaN\n",
      "9     MD     2.0         5.0   23      69      NaN        NaN\n",
      "10    MD     4.0        98.0   25      73      NaN        NaN\n",
      "11    MD     3.0        64.0   29      75      NaN        NaN\n",
      "12    MD     2.0        36.0   24      65      NaN        NaN\n",
      "13    MD     1.0        24.0   25      66      NaN        NaN\n",
      "14    MD     5.0        34.0   31      78      NaN        NaN\n",
      "15    MD     6.0        89.0   22      81      NaN        NaN\n",
      "16    MD     8.0        21.0   25      73      NaN        NaN\n",
      "17    MD     7.0        21.0   30      62      NaN        NaN\n",
      "18    TX     NaN         NaN   32      54  23543.0       10.2\n",
      "19    MD     NaN         NaN   29      69  10343.0       10.3\n",
      "20    IN     NaN         NaN   41      35   5231.0       10.1\n",
      "21    CA     NaN         NaN   35      67  29587.0       10.4\n",
      "22    NY     NaN         NaN   34      78  18142.0       10.2\n"
     ]
    }
   ],
   "source": [
    "income_df = pd.concat([country_level_df,state_level_df],ignore_index=True)\n",
    "print(income_df)"
   ]
  },
  {
   "cell_type": "markdown",
   "metadata": {
    "id": "QOEffcMkhR_c"
   },
   "source": [
    "### Exercise 4 - combine just the columns which are common to both\n",
    "\n",
    "Add an extra parameter, `join='inner'` and combine the dataframes `county_level_df` and `state_level_df` into a new dataframe called `income_df`  \n",
    "\n",
    "**Test output**:  \n",
    "income_df.shape will be (23, 3)   \n",
    "Column headings will be State, Age, Income  \n",
    "There will be 23 rows indexed 0 to 22  \n"
   ]
  },
  {
   "cell_type": "code",
   "execution_count": 11,
   "metadata": {
    "id": "hd1Ca5lAjERH"
   },
   "outputs": [
    {
     "name": "stdout",
     "output_type": "stream",
     "text": [
      "   State  Age  Income\n",
      "0     TX   34      65\n",
      "1     TX   42      45\n",
      "2     TX   23      46\n",
      "3     TX   36      65\n",
      "4     TX   42      53\n",
      "5     TX   25      62\n",
      "6     TX   35      66\n",
      "7     TX   40      75\n",
      "8     MD   27      22\n",
      "9     MD   23      69\n",
      "10    MD   25      73\n",
      "11    MD   29      75\n",
      "12    MD   24      65\n",
      "13    MD   25      66\n",
      "14    MD   31      78\n",
      "15    MD   22      81\n",
      "16    MD   25      73\n",
      "17    MD   30      62\n",
      "18    TX   32      54\n",
      "19    MD   29      69\n",
      "20    IN   41      35\n",
      "21    CA   35      67\n",
      "22    NY   34      78\n"
     ]
    }
   ],
   "source": [
    "income_df = pd.concat([country_level_df,state_level_df],ignore_index=True,join='inner')\n",
    "print(income_df)"
   ]
  },
  {
   "cell_type": "markdown",
   "metadata": {
    "id": "4QAJS3TJCz_p"
   },
   "source": [
    "# Appending rows to a dataframe\n",
    "\n",
    "Where two dataframes have matching columns, we can append one to the other to add the records from one onto the end of the other.\n",
    "\n",
    "We do this using dataframe.append()\n",
    "\n",
    "`income_2 = income.append()`"
   ]
  },
  {
   "cell_type": "markdown",
   "metadata": {
    "id": "Cwarv13blWyg"
   },
   "source": [
    "### Exercise 5 - add new rows to the end of the income dataframe\n",
    "\n",
    "The sheet `income` in the Excel data file has 10 further records showing State, Age and Income only, so this table matches the income dataframe exactly.\n",
    "\n",
    "Read the data from sheet_name `income` in the same Excel data file into a new dataframe called income_new.  \n",
    "\n",
    "Display the data so that you can inspect it.  \n",
    "\n",
    "Now append this dataframe to the `income` dataframe to form a new dataframe called **income_df_v2**.  Use the ignore_index=True parameter to reindex.  \n",
    "\n",
    "**Test output**:  \n",
    "income_df_v2.shape = (33, 4)  \n",
    "Rows are indexed from 0 to 32  "
   ]
  },
  {
   "cell_type": "code",
   "execution_count": 16,
   "metadata": {
    "id": "Exik-fYQ_ORy"
   },
   "outputs": [
    {
     "name": "stdout",
     "output_type": "stream",
     "text": [
      "  State  Age  Income  Pop\n",
      "0    TX   32      69   70\n",
      "1    MD   41      35   33\n",
      "2    IN   32      69   23\n",
      "3    CA   35      54   54\n",
      "4    NY   29      78   11\n",
      "5    TX   35      54   27\n",
      "6    MD   34      67   81\n",
      "7    IN   41      35   24\n",
      "8    CA   29      78   10\n",
      "9    NY   34      67    7\n",
      "   State  Age  Income   Pop\n",
      "0     TX   34      65   NaN\n",
      "1     TX   42      45   NaN\n",
      "2     TX   23      46   NaN\n",
      "3     TX   36      65   NaN\n",
      "4     TX   42      53   NaN\n",
      "5     TX   25      62   NaN\n",
      "6     TX   35      66   NaN\n",
      "7     TX   40      75   NaN\n",
      "8     MD   27      22   NaN\n",
      "9     MD   23      69   NaN\n",
      "10    MD   25      73   NaN\n",
      "11    MD   29      75   NaN\n",
      "12    MD   24      65   NaN\n",
      "13    MD   25      66   NaN\n",
      "14    MD   31      78   NaN\n",
      "15    MD   22      81   NaN\n",
      "16    MD   25      73   NaN\n",
      "17    MD   30      62   NaN\n",
      "18    TX   32      54   NaN\n",
      "19    MD   29      69   NaN\n",
      "20    IN   41      35   NaN\n",
      "21    CA   35      67   NaN\n",
      "22    NY   34      78   NaN\n",
      "23    TX   32      69  70.0\n",
      "24    MD   41      35  33.0\n",
      "25    IN   32      69  23.0\n",
      "26    CA   35      54  54.0\n",
      "27    NY   29      78  11.0\n",
      "28    TX   35      54  27.0\n",
      "29    MD   34      67  81.0\n",
      "30    IN   41      35  24.0\n",
      "31    CA   29      78  10.0\n",
      "32    NY   34      67   7.0\n"
     ]
    }
   ],
   "source": [
    "income_new = pd.read_excel('https://github.com/futureCodersSE/working-with-data/blob/main/Data%20sets/Income-Data.xlsx?raw=true',sheet_name='income')\n",
    "print(income_new)\n",
    "income_df_v2 = income_df.append(income_new,ignore_index=True)\n",
    "print(income_df_v2)"
   ]
  },
  {
   "cell_type": "markdown",
   "metadata": {
    "id": "X6W6V8P9Eo2A"
   },
   "source": [
    "### Exercise 6 - Create a new Pop column in county_level_df\n",
    "\n",
    "Looking at the tables country_level_df and state_level_df, each has a column containing data on population.  One column is headed *Population* and the other is headed *Pop*.  Ideally these would be merged into one column and this would minimise the number of NaN entries.  \n",
    "\n",
    "*  Add a new column called '`Pop`' to the `county_level_df` dataframe which contains a copy of all the values in the '`Population`' column  (`df['new_name'] = df['existing_name']`)  \n",
    "*  Drop the 'Population' column (`df.drop(column name), axis=1`) from `county_level_df` and store the result in a new dataframe called **county_level_df_v2**\n",
    "*  display the new dataframe\n",
    "\n",
    "Test output:   \n",
    "18 rows and 6 columns"
   ]
  },
  {
   "cell_type": "code",
   "execution_count": null,
   "metadata": {
    "id": "Yb_FWSLbG_zo"
   },
   "outputs": [],
   "source": [
    "county_level_df = "
   ]
  },
  {
   "cell_type": "markdown",
   "metadata": {
    "id": "d9ku407dEU_3"
   },
   "source": [
    "## Exercise 7 - clean up the format of the Pop column in state_level_df\n",
    "\n",
    "Now that both dataframes hava a Pop column, we should make the data consisent in format for both dataframes.\n",
    "\n",
    "In `county_level_df_v2` the values in the `Pop` column are in 1000s.  In `state_level_df` the values in the `Pop` column are actual numbers.  Let's convert the `state_level_df` values to 1000s for consistency.  We can do this by performing an operation on a column ( `df[column name] = df[column name] / 1000 `) \n",
    "\n",
    "*  make a copy of `state_level_df` called **state_level_df_v2** (use df.copy())\n",
    "*  convert the values in the `Pop` column of the `state_level_df_v2` dataframe to numbers of 1000s from actual numbers, rounding to whole numbers\n",
    "*  convert the values in the 'Pop' column to int64 (df[column name].astype(int))\n",
    "\n",
    "\n",
    "**Test output**:\n",
    "24, 10, 5, 30, 18, dtype: int64\n",
    "\n",
    "\n",
    "\n",
    "\n"
   ]
  },
  {
   "cell_type": "code",
   "execution_count": null,
   "metadata": {
    "id": "k5xM8g68N-wY"
   },
   "outputs": [],
   "source": []
  },
  {
   "cell_type": "markdown",
   "metadata": {
    "id": "rRoghwoOilff"
   },
   "source": [
    "### Exercise 8 - combine the two v2 dataframes\n",
    "\n",
    "Combine `county_level_df_v2` and `state_level_df_v2` to create a new dataframe called **income_df_v3**.  The join type should be 'inner' and ignore_index should be True\n",
    "\n",
    "**Test output**:  \n",
    "23 rows, 4 columns"
   ]
  },
  {
   "cell_type": "code",
   "execution_count": null,
   "metadata": {
    "id": "SbSGRddLJXO3"
   },
   "outputs": [],
   "source": []
  },
  {
   "cell_type": "markdown",
   "metadata": {
    "id": "y63N_gr2sHI2"
   },
   "source": [
    "###  Exercise 9 - create a function that does all the wrangling\n",
    "\n",
    "Create a function called **get_income_df()** which reads the three data sheets, creates the new versions of `county_level_df` and `state_level_df` and combines the new versions.\n",
    "\n",
    "This function should:\n",
    "\n",
    "*  read the three sheets into the dataframes `county_level_df`, `state_level_df` and `income_new_df`\n",
    "*  clean up the Population column of `county_level_df` so that it has the name Pop\n",
    "*  clean up the Pop column of `state_level_df` so that it contains values that are whole numbers of 1000s\n",
    "*  combine `county_level_df` and `state_level_df` with join='inner', ignoring index\n",
    "*  append income_new_df to the combined dataframe  \n",
    "*  SORT the final dataframe on Income in descending order\n",
    "*  return the final dataframe\n",
    "\n",
    "**Test output**:  \n",
    "dataframe shape = (33, 4)   \n",
    "first row = 10\tMD\t25\t73\t98     \n",
    "last row = 7\tTX\t40\t75\t5\n",
    "\n"
   ]
  },
  {
   "cell_type": "code",
   "execution_count": null,
   "metadata": {
    "id": "hIE8uGK1t50_"
   },
   "outputs": [],
   "source": []
  },
  {
   "cell_type": "markdown",
   "metadata": {
    "id": "giXsXFPq14Lm"
   },
   "source": [
    "### Exercise 10 - group by state and calculate statistics\n",
    "\n",
    "Run the function `get_income_df()` and store the result in a new dataframe called **income_df**.\n",
    "\n",
    "Group `income_df` by `State` and calculate some statistics on the groups.\n",
    "\n",
    "Add a description, in the cell below, of what the statistics show and why in the text box."
   ]
  },
  {
   "cell_type": "code",
   "execution_count": null,
   "metadata": {
    "id": "Ou9dt0MR56S3"
   },
   "outputs": [],
   "source": []
  },
  {
   "cell_type": "markdown",
   "metadata": {
    "id": "wZOHWyPOHkmy"
   },
   "source": [
    "### Exercise 11 - pivot table of state and population \n",
    "---\n",
    "\n",
    "Create a pivot table of `Pop` by `State` and store the result in a new dataframe called **population_pivot**  using `income_df` created in exercise 10\n",
    "\n",
    "To make a pivot table:\n",
    "\n",
    "`df_pivot = pd.pivot_table(\n",
    "      df, \n",
    "      values = 'column1 name',\n",
    "      index = 'column2 name', \n",
    "      columns = 'column3 name',\n",
    "      aggfunc = np.mean\n",
    ")`  \n",
    "If index column is not specified, it will automatically use the existing dataframe index   \n",
    "Make sure to `import numpy as np` if you want to aggregate the means using `aggfunc`. \n",
    "\n",
    "**Test Input**  \n",
    "population_pivot.shape   \n",
    "**Test Output**  \n",
    "(1, 5)\n",
    "\n",
    "\n"
   ]
  },
  {
   "cell_type": "code",
   "execution_count": null,
   "metadata": {
    "id": "3ZC9EuabJIGi"
   },
   "outputs": [],
   "source": []
  },
  {
   "cell_type": "markdown",
   "metadata": {
    "id": "yQyytEbnZ1lw"
   },
   "source": [
    "# Reflection\n",
    "----\n",
    "\n",
    "## What skills have you demonstrated in completing this notebook?"
   ]
  },
  {
   "cell_type": "markdown",
   "metadata": {
    "id": "MM00hR5aZk1-"
   },
   "source": [
    "Your answer: "
   ]
  },
  {
   "cell_type": "markdown",
   "metadata": {
    "id": "Zgexd27sZ1ly"
   },
   "source": [
    "## What caused you the most difficulty?"
   ]
  },
  {
   "cell_type": "markdown",
   "metadata": {
    "id": "-Y_nrVBwaGXr"
   },
   "source": [
    "Your answer: "
   ]
  }
 ],
 "metadata": {
  "colab": {
   "collapsed_sections": [],
   "name": "Wrangle-the-data.ipynb",
   "provenance": []
  },
  "kernelspec": {
   "display_name": "Python 3",
   "language": "python",
   "name": "python3"
  },
  "language_info": {
   "codemirror_mode": {
    "name": "ipython",
    "version": 3
   },
   "file_extension": ".py",
   "mimetype": "text/x-python",
   "name": "python",
   "nbconvert_exporter": "python",
   "pygments_lexer": "ipython3",
   "version": "3.8.3"
  }
 },
 "nbformat": 4,
 "nbformat_minor": 1
}
