{
 "cells": [
  {
   "cell_type": "markdown",
   "metadata": {
    "id": "7iQyKP-SQiw1"
   },
   "source": [
    "# User-defined functions using datetime library\n",
    "\n",
    "---\n"
   ]
  },
  {
   "cell_type": "markdown",
   "metadata": {
    "id": "Vi93h5I4QnKs"
   },
   "source": [
    "When working with dates and times, fairly common in data sets, we need to be able to extract certain bits of information.  \n",
    "\n",
    "In Python, as with other languages, dates and times are stored in a data structure that combines the two together and stores the information as a number of seconds since a start point (often 1st January 1900).  This is obviously a large number but every bit of information about a date can be extracted from it and used to give a wide range of information.  \n",
    "\n",
    "Have a go at the exercises below to use a selection of datetime functions and return a new bit of data from each, to be printed by the caller.\n",
    "\n",
    "Before you can use datetime functions you will need to import them. Import the datetime functions like this:\n",
    "\n",
    "`from datetime import datetime`  \n",
    "\n",
    "\n",
    "For more information about datetime functions visit [w3Schools-Python datetime](https://www.w3schools.com/python/python_datetime.asp) and [Python docs](https://docs.python.org/3/library/datetime.html)"
   ]
  },
  {
   "cell_type": "markdown",
   "metadata": {
    "id": "MIDLi7CNR034"
   },
   "source": [
    "---\n",
    "### Exercise 1 - print current date and time\n",
    "\n",
    "Write a function that will return the date and time now.  The caller will print it.  \n",
    "\n",
    "*Hint:  the format has been added for you, the other exercises will follow a similar format.   Always remember to import datetime from datetime as shown below*"
   ]
  },
  {
   "cell_type": "code",
   "execution_count": 6,
   "metadata": {
    "colab": {
     "base_uri": "https://localhost:8080/"
    },
    "id": "gS6GJdXbQfHp",
    "outputId": "502c49d9-ea70-431e-9756-62884ac5a584"
   },
   "outputs": [
    {
     "name": "stdout",
     "output_type": "stream",
     "text": [
      "2021-08-10 19:42:21.465358+00:00\n"
     ]
    }
   ],
   "source": [
    "from datetime import datetime, timezone\n",
    "# add your function, called get_datetime_now() below here\n",
    "\n",
    "\n",
    "\n",
    "now_date_time = datetime.now(timezone.utc)\n",
    "print(now_date_time)"
   ]
  },
  {
   "cell_type": "markdown",
   "metadata": {
    "id": "Yy24sL0bUtpF"
   },
   "source": [
    "---\n",
    "Exercise 2 - print the current year\n",
    "\n",
    "Write a function that will return the current year.  The caller will print the year."
   ]
  },
  {
   "cell_type": "code",
   "execution_count": 7,
   "metadata": {
    "id": "YqlQqPIqUtyr"
   },
   "outputs": [
    {
     "name": "stdout",
     "output_type": "stream",
     "text": [
      "2021\n"
     ]
    }
   ],
   "source": [
    "def current_year():\n",
    "    x = datetime.now()\n",
    "    return print(x.year)\n",
    "\n",
    "current_year()"
   ]
  },
  {
   "cell_type": "markdown",
   "metadata": {
    "id": "FzSVCaJKV1O1"
   },
   "source": [
    "---\n",
    "### Exercise 3 - print the current day of the week\n",
    "\n",
    "Write a function that will return the current day of the week.  The caller will print it."
   ]
  },
  {
   "cell_type": "code",
   "execution_count": 8,
   "metadata": {
    "id": "OP4ZIXBWV1Yj"
   },
   "outputs": [
    {
     "name": "stdout",
     "output_type": "stream",
     "text": [
      "10\n"
     ]
    }
   ],
   "source": [
    "def current_day():\n",
    "    y = datetime.now()\n",
    "    return print(y.day)\n",
    "\n",
    "current_day()"
   ]
  },
  {
   "cell_type": "markdown",
   "metadata": {
    "id": "a8euCtdmWIDE"
   },
   "source": [
    "---\n",
    "### Exercise 4 - create a new date\n",
    "\n",
    "Write a function that will take 3 parameters, year, month, day (3 numbers that make a valid date) and will create, and return a new date.  The caller will print the date."
   ]
  },
  {
   "cell_type": "code",
   "execution_count": 9,
   "metadata": {
    "id": "FbOFnTwnWILN"
   },
   "outputs": [
    {
     "name": "stdout",
     "output_type": "stream",
     "text": [
      "2017-10-22 00:00:00\n"
     ]
    }
   ],
   "source": [
    "def new_date(year,month,day):\n",
    "    input_date = datetime(year,month,day)\n",
    "    return print(input_date)\n",
    "\n",
    "new_date(2017,10,22)\n",
    "    "
   ]
  },
  {
   "cell_type": "markdown",
   "metadata": {
    "id": "f5SKVuE0WfcE"
   },
   "source": [
    "---\n",
    "### Exercise 5 - create a valid date\n",
    "\n",
    "Write a function that will take 3 parameters, year, month, day (3 numbers) and will:  \n",
    "*   check that the month is between 1 and 12  \n",
    "*   check that the day is valid for the month (e.g. if the month is 2, then the day must be between 1 and 28 (don't worry about leap years for the moment)  \n",
    "*   if the date is not valid, print an error message and return None (which the caller will print)  \n",
    "*   if the date is valid, store it in a new variable, return the variable and the caller will print it."
   ]
  },
  {
   "cell_type": "code",
   "execution_count": 10,
   "metadata": {},
   "outputs": [
    {
     "name": "stdout",
     "output_type": "stream",
     "text": [
      "Invalid Date\n"
     ]
    }
   ],
   "source": [
    "def Valid_date(year,month,day):\n",
    "    valid = []\n",
    "    if (month >=1) and (month <=12):\n",
    "        if (month in [1,3,5,7,8,10,12]) and (day >= 1) and (day <= 31):\n",
    "            valid.append([year,month,day])\n",
    "            return valid\n",
    "        elif (month in [4,6,9,11]) and (day >= 1) and (day <= 30):\n",
    "            valid.append([year,month,day])\n",
    "            return valid\n",
    "        elif (month in [2]) and (day >= 1) and (day <= 28):\n",
    "            valid.append([year,month,day])\n",
    "            return valid\n",
    "        else:\n",
    "            print(\"Invalid Date\")\n",
    "            return None \n",
    "    else:\n",
    "        print(\"Invalid Date\")\n",
    "        return None \n",
    "\n",
    "Valid_date(2001,5,43)"
   ]
  },
  {
   "cell_type": "markdown",
   "metadata": {
    "id": "js7fy2HWXfm2"
   },
   "source": [
    "---\n",
    "### Exercise 6 - is it a leap year?\n",
    "\n",
    "Write a function that will take a date as a parameter (you will need to create the date variable before calling the function) and will determine if it is a leap year, returning True or False.\n",
    "\n",
    "*Hint:  a leap year is a year that is divisible by 4 but the centuries (1900, 2000, etc are only leap years if they are divisible by 400)*"
   ]
  },
  {
   "cell_type": "code",
   "execution_count": 11,
   "metadata": {
    "id": "KY1jtf3lX_ps",
    "scrolled": true
   },
   "outputs": [
    {
     "name": "stdout",
     "output_type": "stream",
     "text": [
      "1996 is a leap year\n"
     ]
    }
   ],
   "source": [
    "from datetime import datetime\n",
    "def is_leap_year(date_to_check):\n",
    "    if date_to_check.year % 4 == 0:\n",
    "        return True\n",
    "    else:\n",
    "        return False\n",
    "    \n",
    "check_date = datetime(1996, 12, 15)    \n",
    "if is_leap_year(check_date):\n",
    "    print(check_date.strftime(\"%Y\"), \"is a leap year\")\n",
    "else:\n",
    "    print(check_date.strftime(\"%Y\"), \"is not a leap year\")"
   ]
  },
  {
   "cell_type": "markdown",
   "metadata": {
    "id": "9BuRDi08YAO0"
   },
   "source": [
    "---\n",
    "### Exercise 7 - display parts of date/time\n",
    "\n",
    "Write a function that will take a date and print from it the following:  \n",
    "*  given date and time  \n",
    "*  year (in full) \n",
    "*  month (as a number) \n",
    "*  month name \n",
    "*  week number of the year  \n",
    "*  weekday of the week (as a number)  \n",
    "*  day of year  \n",
    "*  day of the month  \n",
    "*  day of week (as a name)  \n",
    "\n",
    "*Hint:  see w3Schools for [strftime reference](https://www.w3schools.com/python/python_datetime.asp)*\n",
    "\n"
   ]
  },
  {
   "cell_type": "code",
   "execution_count": 12,
   "metadata": {
    "id": "zl-37Ez9ahym"
   },
   "outputs": [
    {
     "name": "stdout",
     "output_type": "stream",
     "text": [
      "Date and time: 04/19/2017, 00:00:00\n",
      "Month: 4\n",
      "Year: 2017\n",
      "Month Name: April\n",
      "Week Number: 16\n",
      "Day: 19\n",
      "Day of the Year: 109\n",
      "Day of the Month: 19\n",
      "Day of the Week Name: Wednesday\n"
     ]
    }
   ],
   "source": [
    "def parts_of_dates(year,month,day):\n",
    "    date_info = datetime(year,month,day)\n",
    "    date_time = date_info.strftime(\"%m/%d/%Y, %H:%M:%S\")\n",
    "    print('Date and time:',date_time)\n",
    "    month = date_info.month\n",
    "    print('Month:',month)\n",
    "    year = date_info.year\n",
    "    print('Year:',year)\n",
    "    month_name = date_info.strftime(\"%B\")\n",
    "    print('Month Name:',month_name)\n",
    "    week_number = date_info.strftime(\"%U\")\n",
    "    print('Week Number:',week_number)\n",
    "    day = date_info.day\n",
    "    print('Day:',day)\n",
    "    day_year = date_info.strftime(\"%j\")\n",
    "    print('Day of the Year:',day_year)\n",
    "    day_month = date_info.strftime(\"%d\")\n",
    "    print('Day of the Month:',day_month)\n",
    "    day_week = date_info.strftime(\"%A\")\n",
    "    print('Day of the Week Name:',day_week)\n",
    "\n",
    "parts_of_dates(2017,4,19)"
   ]
  },
  {
   "cell_type": "markdown",
   "metadata": {
    "id": "_rpTIoSDaiBj"
   },
   "source": [
    "---\n",
    "### Exercise 8 - next 6 days\n",
    "\n",
    "Write a function that will take a date and generate the dates of the following 6 days.  It should print each of the 6 days in the form:  \n",
    "\n",
    "DAY OF THE WEEK, MONTH NAME, FULL YEAR\n",
    "\n",
    "Hint:  to generate the days, use the function datetime.timedelta(), there is a good example of its use [here](https://www.geeksforgeeks.org/python-datetime-timedelta-function/)  "
   ]
  },
  {
   "cell_type": "code",
   "execution_count": 13,
   "metadata": {
    "id": "1d-oXqLLb0vX"
   },
   "outputs": [],
   "source": [
    "from datetime import datetime, timedelta"
   ]
  },
  {
   "cell_type": "code",
   "execution_count": 34,
   "metadata": {
    "id": "mUr7S2Vn2H80"
   },
   "outputs": [
    {
     "name": "stdout",
     "output_type": "stream",
     "text": [
      "Date plus 1 23,October,2017\n",
      "Date plus 2 24,October,2017\n",
      "Date plus 3 25,October,2017\n",
      "Date plus 4 26,October,2017\n",
      "Date plus 5 27,October,2017\n",
      "Date plus 6 28,October,2017\n",
      "Date plus 7 29,October,2017\n"
     ]
    }
   ],
   "source": [
    "def next_6_days(year,month,day):\n",
    "    counter = 0 \n",
    "    input_date = datetime(year,month,day)\n",
    "    while counter <= 6:\n",
    "        counter += 1\n",
    "        future_date = input_date + timedelta(days = counter)\n",
    "        print('Date plus',counter,future_date.strftime(\"%d,%B,%Y\"))\n",
    "    \n",
    "       \n",
    "\n",
    "next_6_days(2017,10,22)\n",
    "    "
   ]
  },
  {
   "cell_type": "markdown",
   "metadata": {
    "id": "0xNhldfM02FH"
   },
   "source": [
    "### Exercise 9 - modify date format in a dataframe with a custom function\n",
    "---\n",
    "\n",
    "Read the data set 'page_views.csv' from \"https://raw.githubusercontent.com/futureCodersSE/working-with-data/main/Data%20sets/page_views.csv\"\n",
    "\n",
    "Using dataframe.apply(), modify the dates, which are currently strings, so that they are in date format.\n",
    "\n",
    "This is a relatively small data set, so let's use this as a way to look into how an applied function works.\n",
    "\n",
    "1.  Read the data set into a dataframe and display information about it (you will see that the date is of dtype 'object' which means that it could be any data structure\n",
    "\n",
    "2.  Print the date from the first record - you will see that this is a string ('2016-05-09')\n",
    "\n",
    "3.  As a test, convert this string into a valid date (maybe take the date string, split it into three components, year, month, day and create a new datetime from this - you could use the function you wrote for Exercise 5\n",
    "\n",
    "4.  Apply a function that will convert the date (string) column in the dataframe to a date (datetime) column.  (First step - print df['date'] so that you can see that there is just one row in df in the function)\n",
    "\n"
   ]
  },
  {
   "cell_type": "code",
   "execution_count": null,
   "metadata": {
    "id": "qsCMTwuK1zew"
   },
   "outputs": [],
   "source": [
    "import pandas as pd\n",
    "from datetime import datetime\n",
    "\n",
    "\n",
    "def convert_date(df):\n",
    "  text_date = df['date']\n",
    "  split_date = text_date.split('-')\n",
    "  new_date = datetime(int(split_date[0]), int(split_date[1]), int(split_date[2]))\n",
    "  return new_date\n",
    "\n",
    "url = \"https://raw.githubusercontent.com/futureCodersSE/working-with-data/main/Data%20sets/page_views.csv\"\n",
    "page_views = pd.read_csv(url)\n",
    "page_views['date'] = page_views.apply(convert_date, axis=1)\n",
    "page_views.info()"
   ]
  },
  {
   "cell_type": "code",
   "execution_count": null,
   "metadata": {
    "id": "7kNdZy7C8qZA"
   },
   "outputs": [],
   "source": []
  },
  {
   "cell_type": "markdown",
   "metadata": {
    "id": "tQlJkazC6Dpt"
   },
   "source": [
    "### Exercise 10 - here's a challenge\n",
    "---\n",
    "\n",
    "Now that the date is in datetime format, it is possible that you could check for missing dates.\n",
    "\n",
    "1.  Run the code from Exercise 9 to ensure that you have datetime objects and not strings.\n",
    "\n",
    "2.  Sort the dataframe by date (ascending)\n",
    "\n",
    "3.  Starting with the first date, generate a new column with the same number of rows as the dataframe, which contains datetime objects sequentially by day\n",
    "\n",
    "4.  Write a function that takes the dataframe as a parameter, and the next date (see Exercise 8), finds the first row where the generated date and the actual date are not equal and returns the index of this row, or -1 if they are all equal (Hint:  use a filter to find the rows where there is a difference, return the index of the first row - df[df['date'] != df['seq_date']].index[0]"
   ]
  },
  {
   "cell_type": "code",
   "execution_count": null,
   "metadata": {
    "id": "seWgiVE78VBy"
   },
   "outputs": [],
   "source": []
  },
  {
   "cell_type": "markdown",
   "metadata": {
    "id": "22Rhwx2Sb1Ey"
   },
   "source": [
    "---\n",
    "### Optional extra practice\n",
    "\n",
    "There are some similar and some more challenging exercises [here](https://www.w3resource.com/python-exercises/date-time-exercise/) if you would like to practice more. The site has its own editor."
   ]
  }
 ],
 "metadata": {
  "colab": {
   "collapsed_sections": [],
   "name": "Working with datetime.ipynb",
   "provenance": []
  },
  "kernelspec": {
   "display_name": "Python 3",
   "language": "python",
   "name": "python3"
  },
  "language_info": {
   "codemirror_mode": {
    "name": "ipython",
    "version": 3
   },
   "file_extension": ".py",
   "mimetype": "text/x-python",
   "name": "python",
   "nbconvert_exporter": "python",
   "pygments_lexer": "ipython3",
   "version": "3.8.3"
  }
 },
 "nbformat": 4,
 "nbformat_minor": 1
}
